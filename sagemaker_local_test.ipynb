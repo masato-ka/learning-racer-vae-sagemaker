{
 "cells": [
  {
   "cell_type": "code",
   "execution_count": null,
   "metadata": {},
   "outputs": [],
   "source": [
    "import boto3\n",
    "from sagemaker import get_execution_role\n",
    "from sagemaker.local import LocalSession\n",
    "import os\n",
    "\n",
    "profile_name = os.environ['AWS_PROFILE_NAME']\n",
    "region_name = os.environ['AWS_REGION_NAME']\n",
    "bucket_prefix = os.environ['AWS_BUCKET_PREFIX']\n",
    "role = os.environ['AWS_ROLE']\n",
    "\n",
    "boto_sess = boto3.Session(profile_name=profile_name, region_name=region_name)\n",
    "local_session = LocalSession(boto_sess)\n",
    "\n",
    "bucket = bucket_prefix\n",
    "role = role"
   ]
  },
  {
   "cell_type": "code",
   "execution_count": null,
   "metadata": {
    "pycharm": {
     "name": "#%%\n"
    }
   },
   "outputs": [],
   "source": [
    "from sagemaker.pytorch import PyTorch\n",
    "from sagemaker.debugger import TensorBoardOutputConfig, DebuggerHookConfig, CollectionConfig\n",
    "\n",
    "## Not working tensorboard near real time debugging in local mode.\n",
    "tensorboard_output_config = TensorBoardOutputConfig(\n",
    "    s3_output_path='s3://{}/tensorboard'.format(bucket),\n",
    "    container_local_output_path='/opt/ml/output/tensorboard'\n",
    ")\n",
    "\n",
    "pytorch_estimator = PyTorch('train.py',\n",
    "                            source_dir='./src',\n",
    "                            sagemaker_session=local_session,\n",
    "                            role=role,\n",
    "                            instance_type='local',\n",
    "                            instance_count=1,\n",
    "                            framework_version='1.8.0',\n",
    "                            py_version='py3',\n",
    "                            tensorboard_output_config=tensorboard_output_config,\n",
    "                            hyperparameters = {'epochs': 20, 'batch-size': 64, 'learning-rate': 0.1})\n",
    "\n",
    "pytorch_estimator.fit({'train': 's3://{}/dataset2'.format(bucket),\n",
    "                       'test': 's3://{}/dataset2'.format(bucket)})"
   ]
  },
  {
   "cell_type": "code",
   "execution_count": null,
   "metadata": {
    "pycharm": {
     "name": "#%%\n"
    }
   },
   "outputs": [],
   "source": [
    "tensorboard_output_path = pytorch_estimator.latest_job_tensorboard_artifacts_path()\n",
    "print(tensorboard_output_path)\n",
    "\n",
    "\n",
    "\n"
   ]
  }
 ],
 "metadata": {
  "kernelspec": {
   "display_name": "Python 3 (ipykernel)",
   "language": "python",
   "name": "python3"
  },
  "language_info": {
   "codemirror_mode": {
    "name": "ipython",
    "version": 3
   },
   "file_extension": ".py",
   "mimetype": "text/x-python",
   "name": "python",
   "nbconvert_exporter": "python",
   "pygments_lexer": "ipython3",
   "version": "3.8.2"
  }
 },
 "nbformat": 4,
 "nbformat_minor": 1
}