{
 "cells": [
  {
   "cell_type": "code",
   "execution_count": null,
   "id": "5310920a",
   "metadata": {},
   "outputs": [],
   "source": [
    "import boto3\n",
    "import sagemaker\n",
    "from sagemaker import get_execution_role\n",
    "from sagemaker import Session\n",
    "\n",
    "sagemaker_session = Session()\n",
    "bucket = 'path.to.dataset.bucket'\n",
    "role =  sagemaker.get_execution_role()\n",
    "\n",
    "instance_type = 'ml.m5.2xlarge'\n",
    "epochs = 20\n"
   ]
  },
  {
   "cell_type": "code",
   "execution_count": null,
   "id": "9ad3ede9",
   "metadata": {},
   "outputs": [],
   "source": [
    "from sagemaker.pytorch import PyTorch\n",
    "from sagemaker.debugger import TensorBoardOutputConfig, DebuggerHookConfig, CollectionConfig\n",
    "\n",
    "tensorboard_output_config = TensorBoardOutputConfig(\n",
    "    s3_output_path='s3://{}/tensorboard'.format(bucket),\n",
    "    container_local_output_path='/opt/ml/output/tensorboard'\n",
    ")\n",
    "\n",
    "pytorch_estimator = PyTorch('train.py',\n",
    "                            source_dir='./src',\n",
    "                            sagemaker_session=sagemaker_session,\n",
    "                            role=role,\n",
    "                            instance_type=instance_type,\n",
    "                            instance_count=1,\n",
    "                            framework_version='1.8.0',\n",
    "                            py_version='py3',\n",
    "                            tensorboard_output_config=tensorboard_output_config,\n",
    "                            hyperparameters = {'epochs': epochs, 'batch-size': 64, 'learning-rate': 0.1})\n",
    "\n",
    "pytorch_estimator.fit({'train': 's3://{}/dataset2'.format(bucket),\n",
    "                       'test': 's3://{}/dataset2'.format(bucket)})"
   ]
  },
  {
   "cell_type": "code",
   "execution_count": null,
   "id": "80fb18ed",
   "metadata": {
    "pycharm": {
     "name": "#%%\n"
    }
   },
   "outputs": [],
   "source": [
    "tensorboard_output_path = pytorch_estimator.latest_job_tensorboard_artifacts_path()\n",
    "print(tensorboard_output_path)\n",
    "\n"
   ]
  }
 ],
 "metadata": {
  "kernelspec": {
   "name": "python3",
   "language": "python",
   "display_name": "Python 3 (ipykernel)"
  },
  "language_info": {
   "codemirror_mode": {
    "name": "ipython",
    "version": 3
   },
   "file_extension": ".py",
   "mimetype": "text/x-python",
   "name": "python",
   "nbconvert_exporter": "python",
   "pygments_lexer": "ipython3",
   "version": "3.8.12"
  }
 },
 "nbformat": 4,
 "nbformat_minor": 5
}